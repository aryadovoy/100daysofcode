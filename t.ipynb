{
 "cells": [
  {
   "cell_type": "code",
   "execution_count": 34,
   "metadata": {},
   "outputs": [
    {
     "name": "stdout",
     "output_type": "stream",
     "text": [
      "Dear Andrey,\n",
      "\n",
      "Happy birthday!\n",
      "\n",
      "All the best for the year!\n",
      "\n",
      "Andrey\n"
     ]
    }
   ],
   "source": [
    "import random\n",
    "\n",
    "with open('day 32/letter_templates/letter_{}.txt'.format(random.randrange(1, 4))) as letter:\n",
    "    print(str((''.join(letter.readlines()))).replace('[NAME]', 'Andrey'))"
   ]
  }
 ],
 "metadata": {
  "interpreter": {
   "hash": "e7370f93d1d0cde622a1f8e1c04877d8463912d04d973331ad4851f04de6915a"
  },
  "kernelspec": {
   "display_name": "Python 3.10.0 64-bit",
   "language": "python",
   "name": "python3"
  },
  "language_info": {
   "codemirror_mode": {
    "name": "ipython",
    "version": 3
   },
   "file_extension": ".py",
   "mimetype": "text/x-python",
   "name": "python",
   "nbconvert_exporter": "python",
   "pygments_lexer": "ipython3",
   "version": "3.10.0"
  },
  "orig_nbformat": 4
 },
 "nbformat": 4,
 "nbformat_minor": 2
}
